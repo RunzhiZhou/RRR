{
 "cells": [
  {
   "cell_type": "code",
   "execution_count": 1,
   "metadata": {},
   "outputs": [],
   "source": [
    "import openpyxl\n",
    "from openpyxl import load_workbook\n",
    "import pandas as pd\n",
    "import numpy as np\n",
    "import matplotlib.pyplot as plt\n",
    "from sklearn.svm import SVC\n",
    "from sklearn.linear_model import LogisticRegression\n",
    "from sklearn.model_selection import StratifiedShuffleSplit\n",
    "from sklearn.preprocessing import StandardScaler\n",
    "import warnings\n",
    "warnings.filterwarnings('ignore')"
   ]
  },
  {
   "cell_type": "code",
   "execution_count": 2,
   "metadata": {},
   "outputs": [],
   "source": [
    "df = pd.read_excel(\"data.xlsx\", sheet_name=None, header=0)\n",
    "all_df = {}\n",
    "for i, d in enumerate(df.items()):\n",
    "    name, data = d\n",
    "    data['wellid'] = i\n",
    "    all_df[name] = data\n",
    "data = pd.concat(df.values())\n",
    "data = data[data['DEPTH'] == data[\"DEPTH\"]]\n",
    "data = data.reset_index()\n",
    "data = data.drop(['index'], axis=1)\n",
    "\n",
    "comb = [(1, 1), (1, 2), (1, 3), (2, 1), (2, 2), (2, 3)]\n",
    "def label_facies(row):\n",
    "    f = row['Fluid']\n",
    "    lf = row['Log_Facies']\n",
    "    return comb.index((f, lf))\n",
    "data['MixLabel'] = data.apply(label_facies, axis=1)"
   ]
  },
  {
   "cell_type": "code",
   "execution_count": 3,
   "metadata": {},
   "outputs": [],
   "source": [
    "CLF = SVC # change model here\n",
    "CLF = LogisticRegression"
   ]
  },
  {
   "cell_type": "code",
   "execution_count": 4,
   "metadata": {},
   "outputs": [],
   "source": [
    "Y =  data['Log_Facies'].values"
   ]
  },
  {
   "cell_type": "code",
   "execution_count": 5,
   "metadata": {},
   "outputs": [],
   "source": [
    "X = data[[\"DEPTH\", \"DT\", \"GR\", \"LLD\", \"NPHI\", \"RHOB\"]].values"
   ]
  },
  {
   "cell_type": "code",
   "execution_count": 6,
   "metadata": {},
   "outputs": [],
   "source": [
    "# using cross well\n",
    "cross_well = False\n",
    "if cross_well:\n",
    "    test_well_index = 2\n",
    "    train_index = data[data['wellid']!=test_well_index].index\n",
    "    test_index = data[data['wellid']==test_well_index].index\n",
    "    indices = [[train_index, test_index]]\n",
    "    \n",
    "    \n",
    "else:\n",
    "    num_of_shuffler = 1\n",
    "    shuffler1 = StratifiedShuffleSplit(n_splits=num_of_shuffler, test_size=0.1, random_state=1).split(X, Y)\n",
    "    s1 = [x for x in shuffler1]\n",
    "    indices = [(train_idx, validation_idx) for train_idx, validation_idx in s1]\n"
   ]
  },
  {
   "cell_type": "code",
   "execution_count": 7,
   "metadata": {},
   "outputs": [],
   "source": [
    "X_train_old = X[indices[0][0]]\n",
    "Y_train = Y[indices[0][0]]\n",
    "X_test_old = X[indices[0][1]]\n",
    "Y_test = Y[indices[0][1]]"
   ]
  },
  {
   "cell_type": "markdown",
   "metadata": {},
   "source": [
    "### FIT"
   ]
  },
  {
   "cell_type": "code",
   "execution_count": 8,
   "metadata": {},
   "outputs": [
    {
     "name": "stdout",
     "output_type": "stream",
     "text": [
      "on train, total: 4225, correct: 3424, rate: 0.8104\n"
     ]
    }
   ],
   "source": [
    "clf = CLF()\n",
    "ss = StandardScaler()\n",
    "X_train = ss.fit_transform(X_train_old)\n",
    "X_test = ss.transform(X_test_old)\n",
    "clf.fit(X_train, Y_train)\n",
    "Y_pred = clf.predict(X_train)\n",
    "total = Y_pred.shape[0]\n",
    "correct = Y_pred[Y_pred==Y_train].shape[0]\n",
    "print(\"on train, total: {}, correct: {}, rate: {:.4f}\".format(total, correct, correct/total))"
   ]
  },
  {
   "cell_type": "code",
   "execution_count": 9,
   "metadata": {},
   "outputs": [
    {
     "name": "stdout",
     "output_type": "stream",
     "text": [
      "on test, total: 470, correct: 376, rate: 0.8000\n"
     ]
    }
   ],
   "source": [
    "Y_pred = clf.predict(X_test)\n",
    "total = Y_pred.shape[0]\n",
    "correct = Y_pred[Y_pred==Y_test].shape[0]\n",
    "print(\"on test, total: {}, correct: {}, rate: {:.4f}\".format(total, correct, correct/total))"
   ]
  },
  {
   "cell_type": "markdown",
   "metadata": {},
   "source": [
    "### POWER"
   ]
  },
  {
   "cell_type": "code",
   "execution_count": 10,
   "metadata": {},
   "outputs": [],
   "source": [
    "step = [-20+i*0.5 for i in range(81)]"
   ]
  },
  {
   "cell_type": "code",
   "execution_count": 11,
   "metadata": {},
   "outputs": [],
   "source": [
    "def power_once(power):\n",
    "    X_np = np.copy(X_train_old)\n",
    "    a = [X_np]\n",
    "    if power == 0:\n",
    "        pass\n",
    "    else:\n",
    "        X_np_square = X_np ** power\n",
    "        X_np_square = X_np_square[:,1:]\n",
    "        a.append(X_np_square)\n",
    "    X_all = np.hstack(a)\n",
    "    \n",
    "    ss = StandardScaler()\n",
    "    X_train = ss.fit_transform(X_all)\n",
    "    clf = CLF()\n",
    "    clf.fit(X_train, Y_train)\n",
    "    \n",
    "    # test train data \n",
    "    Y_pred = clf.predict(X_train)\n",
    "    total = Y_pred.shape[0]\n",
    "    correct = Y_pred[Y_pred==Y_train].shape[0]\n",
    "    print(\"on train, total: {}, correct: {}, rate: {:.4f}\".format(total, correct, correct/total))\n",
    "    \n",
    "    X_np = np.copy(X_test_old)\n",
    "    a = [X_np]\n",
    "    if power == 0:\n",
    "        pass\n",
    "    else:\n",
    "        X_np_square = X_np ** power\n",
    "        X_np_square = X_np_square[:,1:]\n",
    "        a.append(X_np_square)\n",
    "    X_all = np.hstack(a)\n",
    "    X_test = ss.fit_transform(X_all)\n",
    "    \n",
    "    Y_pred = clf.predict(X_test)\n",
    "    total = Y_pred.shape[0]\n",
    "    correct = Y_pred[Y_pred==Y_test].shape[0]\n",
    "    print(\"on test, total: {}, correct: {}, rate: {:.4f}\".format(total, correct, correct/total))\n",
    "    return correct/total, correct, total, power"
   ]
  },
  {
   "cell_type": "code",
   "execution_count": 12,
   "metadata": {},
   "outputs": [
    {
     "name": "stdout",
     "output_type": "stream",
     "text": [
      "on train, total: 4225, correct: 3448, rate: 0.8161\n",
      "on test, total: 470, correct: 359, rate: 0.7638\n",
      "on train, total: 4225, correct: 3451, rate: 0.8168\n",
      "on test, total: 470, correct: 360, rate: 0.7660\n",
      "on train, total: 4225, correct: 3451, rate: 0.8168\n",
      "on test, total: 470, correct: 359, rate: 0.7638\n",
      "on train, total: 4225, correct: 3451, rate: 0.8168\n",
      "on test, total: 470, correct: 358, rate: 0.7617\n",
      "on train, total: 4225, correct: 3449, rate: 0.8163\n",
      "on test, total: 470, correct: 357, rate: 0.7596\n",
      "on train, total: 4225, correct: 3447, rate: 0.8159\n",
      "on test, total: 470, correct: 361, rate: 0.7681\n",
      "on train, total: 4225, correct: 3447, rate: 0.8159\n",
      "on test, total: 470, correct: 362, rate: 0.7702\n",
      "on train, total: 4225, correct: 3448, rate: 0.8161\n",
      "on test, total: 470, correct: 365, rate: 0.7766\n",
      "on train, total: 4225, correct: 3450, rate: 0.8166\n",
      "on test, total: 470, correct: 368, rate: 0.7830\n",
      "on train, total: 4225, correct: 3452, rate: 0.8170\n",
      "on test, total: 470, correct: 369, rate: 0.7851\n",
      "on train, total: 4225, correct: 3452, rate: 0.8170\n",
      "on test, total: 470, correct: 370, rate: 0.7872\n",
      "on train, total: 4225, correct: 3451, rate: 0.8168\n",
      "on test, total: 470, correct: 371, rate: 0.7894\n",
      "on train, total: 4225, correct: 3451, rate: 0.8168\n",
      "on test, total: 470, correct: 374, rate: 0.7957\n",
      "on train, total: 4225, correct: 3449, rate: 0.8163\n",
      "on test, total: 470, correct: 375, rate: 0.7979\n",
      "on train, total: 4225, correct: 3448, rate: 0.8161\n",
      "on test, total: 470, correct: 377, rate: 0.8021\n",
      "on train, total: 4225, correct: 3448, rate: 0.8161\n",
      "on test, total: 470, correct: 379, rate: 0.8064\n",
      "on train, total: 4225, correct: 3448, rate: 0.8161\n",
      "on test, total: 470, correct: 379, rate: 0.8064\n",
      "on train, total: 4225, correct: 3446, rate: 0.8156\n",
      "on test, total: 470, correct: 380, rate: 0.8085\n",
      "on train, total: 4225, correct: 3446, rate: 0.8156\n",
      "on test, total: 470, correct: 381, rate: 0.8106\n",
      "on train, total: 4225, correct: 3446, rate: 0.8156\n",
      "on test, total: 470, correct: 381, rate: 0.8106\n",
      "on train, total: 4225, correct: 3448, rate: 0.8161\n",
      "on test, total: 470, correct: 383, rate: 0.8149\n",
      "on train, total: 4225, correct: 3447, rate: 0.8159\n",
      "on test, total: 470, correct: 384, rate: 0.8170\n",
      "on train, total: 4225, correct: 3449, rate: 0.8163\n",
      "on test, total: 470, correct: 383, rate: 0.8149\n",
      "on train, total: 4225, correct: 3447, rate: 0.8159\n",
      "on test, total: 470, correct: 384, rate: 0.8170\n",
      "on train, total: 4225, correct: 3449, rate: 0.8163\n",
      "on test, total: 470, correct: 384, rate: 0.8170\n",
      "on train, total: 4225, correct: 3455, rate: 0.8178\n",
      "on test, total: 470, correct: 383, rate: 0.8149\n",
      "on train, total: 4225, correct: 3459, rate: 0.8187\n",
      "on test, total: 470, correct: 384, rate: 0.8170\n",
      "on train, total: 4225, correct: 3454, rate: 0.8175\n",
      "on test, total: 470, correct: 385, rate: 0.8191\n",
      "on train, total: 4225, correct: 3455, rate: 0.8178\n",
      "on test, total: 470, correct: 382, rate: 0.8128\n",
      "on train, total: 4225, correct: 3456, rate: 0.8180\n",
      "on test, total: 470, correct: 385, rate: 0.8191\n",
      "on train, total: 4225, correct: 3459, rate: 0.8187\n",
      "on test, total: 470, correct: 383, rate: 0.8149\n",
      "on train, total: 4225, correct: 3458, rate: 0.8185\n",
      "on test, total: 470, correct: 385, rate: 0.8191\n",
      "on train, total: 4225, correct: 3458, rate: 0.8185\n",
      "on test, total: 470, correct: 384, rate: 0.8170\n",
      "on train, total: 4225, correct: 3460, rate: 0.8189\n",
      "on test, total: 470, correct: 385, rate: 0.8191\n",
      "on train, total: 4225, correct: 3475, rate: 0.8225\n",
      "on test, total: 470, correct: 384, rate: 0.8170\n",
      "on train, total: 4225, correct: 3474, rate: 0.8222\n",
      "on test, total: 470, correct: 384, rate: 0.8170\n",
      "on train, total: 4225, correct: 3468, rate: 0.8208\n",
      "on test, total: 470, correct: 383, rate: 0.8149\n",
      "on train, total: 4225, correct: 3462, rate: 0.8194\n",
      "on test, total: 470, correct: 384, rate: 0.8170\n",
      "on train, total: 4225, correct: 3460, rate: 0.8189\n",
      "on test, total: 470, correct: 384, rate: 0.8170\n",
      "on train, total: 4225, correct: 3459, rate: 0.8187\n",
      "on test, total: 470, correct: 382, rate: 0.8128\n",
      "on train, total: 4225, correct: 3424, rate: 0.8104\n",
      "on test, total: 470, correct: 374, rate: 0.7957\n",
      "on train, total: 4225, correct: 3443, rate: 0.8149\n",
      "on test, total: 470, correct: 376, rate: 0.8000\n",
      "on train, total: 4225, correct: 3426, rate: 0.8109\n",
      "on test, total: 470, correct: 375, rate: 0.7979\n",
      "on train, total: 4225, correct: 3435, rate: 0.8130\n",
      "on test, total: 470, correct: 376, rate: 0.8000\n",
      "on train, total: 4225, correct: 3439, rate: 0.8140\n",
      "on test, total: 470, correct: 375, rate: 0.7979\n",
      "on train, total: 4225, correct: 3446, rate: 0.8156\n",
      "on test, total: 470, correct: 375, rate: 0.7979\n",
      "on train, total: 4225, correct: 3450, rate: 0.8166\n",
      "on test, total: 470, correct: 378, rate: 0.8043\n",
      "on train, total: 4225, correct: 3449, rate: 0.8163\n",
      "on test, total: 470, correct: 379, rate: 0.8064\n",
      "on train, total: 4225, correct: 3450, rate: 0.8166\n",
      "on test, total: 470, correct: 379, rate: 0.8064\n",
      "on train, total: 4225, correct: 3455, rate: 0.8178\n",
      "on test, total: 470, correct: 380, rate: 0.8085\n",
      "on train, total: 4225, correct: 3457, rate: 0.8182\n",
      "on test, total: 470, correct: 378, rate: 0.8043\n",
      "on train, total: 4225, correct: 3460, rate: 0.8189\n",
      "on test, total: 470, correct: 377, rate: 0.8021\n",
      "on train, total: 4225, correct: 3463, rate: 0.8196\n",
      "on test, total: 470, correct: 379, rate: 0.8064\n",
      "on train, total: 4225, correct: 3460, rate: 0.8189\n",
      "on test, total: 470, correct: 378, rate: 0.8043\n",
      "on train, total: 4225, correct: 3461, rate: 0.8192\n",
      "on test, total: 470, correct: 378, rate: 0.8043\n",
      "on train, total: 4225, correct: 3460, rate: 0.8189\n",
      "on test, total: 470, correct: 383, rate: 0.8149\n",
      "on train, total: 4225, correct: 3462, rate: 0.8194\n",
      "on test, total: 470, correct: 385, rate: 0.8191\n",
      "on train, total: 4225, correct: 3459, rate: 0.8187\n",
      "on test, total: 470, correct: 385, rate: 0.8191\n",
      "on train, total: 4225, correct: 3455, rate: 0.8178\n",
      "on test, total: 470, correct: 385, rate: 0.8191\n",
      "on train, total: 4225, correct: 3455, rate: 0.8178\n",
      "on test, total: 470, correct: 386, rate: 0.8213\n",
      "on train, total: 4225, correct: 3454, rate: 0.8175\n",
      "on test, total: 470, correct: 386, rate: 0.8213\n",
      "on train, total: 4225, correct: 3456, rate: 0.8180\n",
      "on test, total: 470, correct: 386, rate: 0.8213\n",
      "on train, total: 4225, correct: 3456, rate: 0.8180\n",
      "on test, total: 470, correct: 387, rate: 0.8234\n",
      "on train, total: 4225, correct: 3452, rate: 0.8170\n",
      "on test, total: 470, correct: 387, rate: 0.8234\n",
      "on train, total: 4225, correct: 3452, rate: 0.8170\n",
      "on test, total: 470, correct: 387, rate: 0.8234\n",
      "on train, total: 4225, correct: 3450, rate: 0.8166\n",
      "on test, total: 470, correct: 387, rate: 0.8234\n",
      "on train, total: 4225, correct: 3453, rate: 0.8173\n",
      "on test, total: 470, correct: 387, rate: 0.8234\n",
      "on train, total: 4225, correct: 3453, rate: 0.8173\n",
      "on test, total: 470, correct: 387, rate: 0.8234\n",
      "on train, total: 4225, correct: 3450, rate: 0.8166\n",
      "on test, total: 470, correct: 388, rate: 0.8255\n",
      "on train, total: 4225, correct: 3448, rate: 0.8161\n",
      "on test, total: 470, correct: 387, rate: 0.8234\n",
      "on train, total: 4225, correct: 3449, rate: 0.8163\n",
      "on test, total: 470, correct: 387, rate: 0.8234\n",
      "on train, total: 4225, correct: 3449, rate: 0.8163\n",
      "on test, total: 470, correct: 387, rate: 0.8234\n",
      "on train, total: 4225, correct: 3449, rate: 0.8163\n",
      "on test, total: 470, correct: 387, rate: 0.8234\n",
      "on train, total: 4225, correct: 3448, rate: 0.8161\n",
      "on test, total: 470, correct: 387, rate: 0.8234\n",
      "on train, total: 4225, correct: 3448, rate: 0.8161\n",
      "on test, total: 470, correct: 387, rate: 0.8234\n",
      "on train, total: 4225, correct: 3447, rate: 0.8159\n",
      "on test, total: 470, correct: 386, rate: 0.8213\n",
      "on train, total: 4225, correct: 3445, rate: 0.8154\n",
      "on test, total: 470, correct: 386, rate: 0.8213\n",
      "on train, total: 4225, correct: 3445, rate: 0.8154\n",
      "on test, total: 470, correct: 386, rate: 0.8213\n",
      "on train, total: 4225, correct: 3444, rate: 0.8151\n",
      "on test, total: 470, correct: 386, rate: 0.8213\n",
      "on train, total: 4225, correct: 3442, rate: 0.8147\n",
      "on test, total: 470, correct: 386, rate: 0.8213\n",
      "on train, total: 4225, correct: 3441, rate: 0.8144\n",
      "on test, total: 470, correct: 386, rate: 0.8213\n"
     ]
    }
   ],
   "source": [
    "result = [power_once(p) for p in step]"
   ]
  },
  {
   "cell_type": "code",
   "execution_count": 13,
   "metadata": {},
   "outputs": [
    {
     "data": {
      "text/plain": [
       "[<matplotlib.lines.Line2D at 0x1a261cca90>]"
      ]
     },
     "execution_count": 13,
     "metadata": {},
     "output_type": "execute_result"
    },
    {
     "data": {
      "image/png": "[encoded data removed]",
      "text/plain": [
       "<Figure size 432x288 with 1 Axes>"
      ]
     },
     "metadata": {
      "needs_background": "light"
     },
     "output_type": "display_data"
    }
   ],
   "source": [
    "y = [i[0] for i in result]\n",
    "x = [i[-1] for i in result]\n",
    "plt.plot(x, y)\n",
    "base = result[40][0]\n",
    "plt.plot([-20, 20], [base, base])"
   ]
  },
  {
   "cell_type": "code",
   "execution_count": 14,
   "metadata": {
    "scrolled": true
   },
   "outputs": [
    {
     "name": "stdout",
     "output_type": "stream",
     "text": [
      "-20.0 0.7638297872340426 (0.7638297872340426, 359, 470, -20.0) 0\n",
      "-19.5 0.7659574468085106 (0.7659574468085106, 360, 470, -19.5) 1\n",
      "-19.0 0.7638297872340426 (0.7638297872340426, 359, 470, -19.0) 2\n",
      "-18.5 0.7617021276595745 (0.7617021276595745, 358, 470, -18.5) 3\n",
      "-18.0 0.7595744680851064 (0.7595744680851064, 357, 470, -18.0) 4\n",
      "-17.5 0.7680851063829788 (0.7680851063829788, 361, 470, -17.5) 5\n",
      "-17.0 0.7702127659574468 (0.7702127659574468, 362, 470, -17.0) 6\n",
      "-16.5 0.776595744680851 (0.776595744680851, 365, 470, -16.5) 7\n",
      "-16.0 0.7829787234042553 (0.7829787234042553, 368, 470, -16.0) 8\n",
      "-15.5 0.7851063829787234 (0.7851063829787234, 369, 470, -15.5) 9\n",
      "-15.0 0.7872340425531915 (0.7872340425531915, 370, 470, -15.0) 10\n",
      "-14.5 0.7893617021276595 (0.7893617021276595, 371, 470, -14.5) 11\n",
      "-14.0 0.7957446808510639 (0.7957446808510639, 374, 470, -14.0) 12\n",
      "-13.5 0.7978723404255319 (0.7978723404255319, 375, 470, -13.5) 13\n",
      "-13.0 0.8021276595744681 (0.8021276595744681, 377, 470, -13.0) 14\n",
      "-12.5 0.8063829787234043 (0.8063829787234043, 379, 470, -12.5) 15\n",
      "-12.0 0.8063829787234043 (0.8063829787234043, 379, 470, -12.0) 16\n",
      "-11.5 0.8085106382978723 (0.8085106382978723, 380, 470, -11.5) 17\n",
      "-11.0 0.8106382978723404 (0.8106382978723404, 381, 470, -11.0) 18\n",
      "-10.5 0.8106382978723404 (0.8106382978723404, 381, 470, -10.5) 19\n",
      "-10.0 0.8148936170212766 (0.8148936170212766, 383, 470, -10.0) 20\n",
      "-9.5 0.8170212765957446 (0.8170212765957446, 384, 470, -9.5) 21\n",
      "-9.0 0.8148936170212766 (0.8148936170212766, 383, 470, -9.0) 22\n",
      "-8.5 0.8170212765957446 (0.8170212765957446, 384, 470, -8.5) 23\n",
      "-8.0 0.8170212765957446 (0.8170212765957446, 384, 470, -8.0) 24\n",
      "-7.5 0.8148936170212766 (0.8148936170212766, 383, 470, -7.5) 25\n",
      "-7.0 0.8170212765957446 (0.8170212765957446, 384, 470, -7.0) 26\n",
      "-6.5 0.8191489361702128 (0.8191489361702128, 385, 470, -6.5) 27\n",
      "-6.0 0.8127659574468085 (0.8127659574468085, 382, 470, -6.0) 28\n",
      "-5.5 0.8191489361702128 (0.8191489361702128, 385, 470, -5.5) 29\n",
      "-5.0 0.8148936170212766 (0.8148936170212766, 383, 470, -5.0) 30\n",
      "-4.5 0.8191489361702128 (0.8191489361702128, 385, 470, -4.5) 31\n",
      "-4.0 0.8170212765957446 (0.8170212765957446, 384, 470, -4.0) 32\n",
      "-3.5 0.8191489361702128 (0.8191489361702128, 385, 470, -3.5) 33\n",
      "-3.0 0.8170212765957446 (0.8170212765957446, 384, 470, -3.0) 34\n",
      "-2.5 0.8170212765957446 (0.8170212765957446, 384, 470, -2.5) 35\n",
      "-2.0 0.8148936170212766 (0.8148936170212766, 383, 470, -2.0) 36\n",
      "-1.5 0.8170212765957446 (0.8170212765957446, 384, 470, -1.5) 37\n",
      "-1.0 0.8170212765957446 (0.8170212765957446, 384, 470, -1.0) 38\n",
      "-0.5 0.8127659574468085 (0.8127659574468085, 382, 470, -0.5) 39\n",
      "0.0 0.7957446808510639 (0.7957446808510639, 374, 470, 0.0) 40\n",
      "0.5 0.8 (0.8, 376, 470, 0.5) 41\n",
      "1.0 0.7978723404255319 (0.7978723404255319, 375, 470, 1.0) 42\n",
      "1.5 0.8 (0.8, 376, 470, 1.5) 43\n",
      "2.0 0.7978723404255319 (0.7978723404255319, 375, 470, 2.0) 44\n",
      "2.5 0.7978723404255319 (0.7978723404255319, 375, 470, 2.5) 45\n",
      "3.0 0.8042553191489362 (0.8042553191489362, 378, 470, 3.0) 46\n",
      "3.5 0.8063829787234043 (0.8063829787234043, 379, 470, 3.5) 47\n",
      "4.0 0.8063829787234043 (0.8063829787234043, 379, 470, 4.0) 48\n",
      "4.5 0.8085106382978723 (0.8085106382978723, 380, 470, 4.5) 49\n",
      "5.0 0.8042553191489362 (0.8042553191489362, 378, 470, 5.0) 50\n",
      "5.5 0.8021276595744681 (0.8021276595744681, 377, 470, 5.5) 51\n",
      "6.0 0.8063829787234043 (0.8063829787234043, 379, 470, 6.0) 52\n",
      "6.5 0.8042553191489362 (0.8042553191489362, 378, 470, 6.5) 53\n",
      "7.0 0.8042553191489362 (0.8042553191489362, 378, 470, 7.0) 54\n",
      "7.5 0.8148936170212766 (0.8148936170212766, 383, 470, 7.5) 55\n",
      "8.0 0.8191489361702128 (0.8191489361702128, 385, 470, 8.0) 56\n",
      "8.5 0.8191489361702128 (0.8191489361702128, 385, 470, 8.5) 57\n",
      "9.0 0.8191489361702128 (0.8191489361702128, 385, 470, 9.0) 58\n",
      "9.5 0.8212765957446808 (0.8212765957446808, 386, 470, 9.5) 59\n",
      "10.0 0.8212765957446808 (0.8212765957446808, 386, 470, 10.0) 60\n",
      "10.5 0.8212765957446808 (0.8212765957446808, 386, 470, 10.5) 61\n",
      "11.0 0.823404255319149 (0.823404255319149, 387, 470, 11.0) 62\n",
      "11.5 0.823404255319149 (0.823404255319149, 387, 470, 11.5) 63\n",
      "12.0 0.823404255319149 (0.823404255319149, 387, 470, 12.0) 64\n",
      "12.5 0.823404255319149 (0.823404255319149, 387, 470, 12.5) 65\n",
      "13.0 0.823404255319149 (0.823404255319149, 387, 470, 13.0) 66\n",
      "13.5 0.823404255319149 (0.823404255319149, 387, 470, 13.5) 67\n",
      "14.0 0.825531914893617 (0.825531914893617, 388, 470, 14.0) 68\n",
      "14.5 0.823404255319149 (0.823404255319149, 387, 470, 14.5) 69\n",
      "15.0 0.823404255319149 (0.823404255319149, 387, 470, 15.0) 70\n",
      "15.5 0.823404255319149 (0.823404255319149, 387, 470, 15.5) 71\n",
      "16.0 0.823404255319149 (0.823404255319149, 387, 470, 16.0) 72\n",
      "16.5 0.823404255319149 (0.823404255319149, 387, 470, 16.5) 73\n",
      "17.0 0.823404255319149 (0.823404255319149, 387, 470, 17.0) 74\n",
      "17.5 0.8212765957446808 (0.8212765957446808, 386, 470, 17.5) 75\n",
      "18.0 0.8212765957446808 (0.8212765957446808, 386, 470, 18.0) 76\n",
      "18.5 0.8212765957446808 (0.8212765957446808, 386, 470, 18.5) 77\n",
      "19.0 0.8212765957446808 (0.8212765957446808, 386, 470, 19.0) 78\n",
      "19.5 0.8212765957446808 (0.8212765957446808, 386, 470, 19.5) 79\n",
      "20.0 0.8212765957446808 (0.8212765957446808, 386, 470, 20.0) 80\n"
     ]
    }
   ],
   "source": [
    "from pprint import pprint\n",
    "for i, c in enumerate(x):\n",
    "    print(x[i], y[i], result[i], i)"
   ]
  },
  {
   "cell_type": "code",
   "execution_count": null,
   "metadata": {},
   "outputs": [],
   "source": []
  }
 ],
 "metadata": {
  "kernelspec": {
   "display_name": "Python 3",
   "language": "python",
   "name": "python3"
  },
  "language_info": {
   "codemirror_mode": {
    "name": "ipython",
    "version": 3
   },
   "file_extension": ".py",
   "mimetype": "text/x-python",
   "name": "python",
   "nbconvert_exporter": "python",
   "pygments_lexer": "ipython3",
   "version": "3.7.3"
  }
 },
 "nbformat": 4,
 "nbformat_minor": 2
}
